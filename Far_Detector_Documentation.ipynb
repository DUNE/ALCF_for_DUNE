{
 "cells": [
  {
   "cell_type": "markdown",
   "id": "5f33d0d0-3073-4ce1-93c6-05a148c201b7",
   "metadata": {},
   "source": [
    "## Running the 2x2 Simulation chain on Polaris using Singularity container"
   ]
  },
  {
   "cell_type": "code",
   "execution_count": null,
   "id": "ffd71cdb",
   "metadata": {},
   "outputs": [],
   "source": [
    "#Obtain a debug node to do our work\n",
    "qsub -I -l select=1 -l filesystems=home:eagle -l walltime=1:00:00 -q debug -A ALCF_for_DUNE"
   ]
  },
  {
   "cell_type": "code",
   "execution_count": null,
   "id": "75776b5a-b771-4bd8-af5a-287437c9b265",
   "metadata": {},
   "outputs": [],
   "source": [
    "# Module load command for software loading\n",
    "module use /soft/modulefiles\n",
    "module load spack-pe-base/0.6.1\n",
    "module load apptainer\n",
    "\n",
    "#load python\n",
    "# module use /soft/modulefiles ; module load conda; conda activate base"
   ]
  },
  {
   "cell_type": "code",
   "execution_count": null,
   "id": "de3bcf54",
   "metadata": {},
   "outputs": [],
   "source": [
    "mkdir workdir\n",
    "cd workdir\n",
    "\n",
    "git clone https://github.com/cvmfs/cvmfsexec\n",
    "cd cvmfsexec/\n",
    "./makedist osg\n",
    "cd ..\n",
    "\n",
    "#change this to you rcvmfsexec path\n",
    "export CVMFS_PATH=<path to cvmfsexec just cloned>\n",
    "#export CMVMFS_DIR=/home/fathimamaha/workdir/cvmfsexec\n",
    "\n",
    "export SINGULARITY_BIND=/grand/ALCF_for_DUNE:/grand/ALCF_for_DUNE,$CVMFS_PATH/dist/cvmfs:/cvmfs\n",
    "\n",
    "#obtain a singularity\n",
    "./cvmfsexec/cvmfsexec config-osg.opensciencegrid.org dune.opensciencegrid.org fermilab.opensciencegrid.org larsoft.opensciencegrid.org dune.osgstorage.org -- singularity exec docker://opensciencegrid/osgvo-el7 bash\n",
    "\n",
    "#inside the container\n",
    "\n",
    "#optional\n",
    "unset LD_PRELOAD"
   ]
  },
  {
   "cell_type": "markdown",
   "id": "8083a12e",
   "metadata": {},
   "source": [
    "https://wiki.dunescience.org/wiki/G4beamlineVersion3.06"
   ]
  },
  {
   "cell_type": "code",
   "execution_count": null,
   "id": "f8dc0a5d",
   "metadata": {},
   "outputs": [],
   "source": [
    "#Protodune SP simulation\n",
    "\n",
    "#inside the container\n",
    "\n",
    "source /cvmfs/dune.opensciencegrid.org/products/dune/setup_dune.sh\n",
    "setup dunesw v09_65_01d00 -q e20:prof\n",
    "\n",
    "cat > tmpgen_sp.fcl << EOF\n",
    "#include \"mcc12_gen_protoDune_beam_cosmics_p1GeV.fcl\"\n",
    "physics.producers.generator.FileName:\"/grand/ALCF_for_DUNE/far_detector_data/H4_v34b_1GeV_-27.7_10M_1.root\"\n",
    "EOF\n",
    "\n",
    "#make sure tmpgen.fcl has the contents\n",
    "cat tmpgen_sp.fcl\n",
    "\n",
    "lar -n 1 -c tmpgen.fcl -o gen.root\n",
    "lar -n 1 -c protoDUNE_refactored_g4_stage1.fcl gen.root -o g4_stage1.root\n",
    "lar -n 1 -c protoDUNE_refactored_detsim_stage1.fcl g4_stage2.root -o\n",
    "detsim_stage1.root\n",
    "lar -n 1 -c protoDUNE_refactored_detsim_stage2.fcl detsim_stage1.root -o\n",
    "detsim_stage2.root\n",
    "lar -n 1 -c protoDUNE_refactored_reco_35ms_sce_datadriven_stage1.fcl\n",
    "detsim_stage2.root -o reco_stage1.root\n",
    "lar -c eventdump.fcl reco_stage1.root >& eventdump_output.txt\n",
    "config_dumper -P reco_stage1.root >& config_output.txt\n",
    "product_sizes_dumper -f 0 reco_stage1.root >& productsizes.txt\n",
    "\n"
   ]
  },
  {
   "cell_type": "code",
   "execution_count": null,
   "id": "702c4454",
   "metadata": {},
   "outputs": [],
   "source": [
    "#Protodune HD simulation\n",
    "\n",
    "#inside the container\n",
    "\n",
    "source /cvmfs/dune.opensciencegrid.org/products/dune/setup_dune.sh\n",
    "setup dunesw v09_65_01d00 -q e20:prof\n",
    "\n",
    "cat > tmpgen_hd.fcl << EOF\n",
    "#include \"prod_beam_cosmics_1GeV_protodunehd.fcl\"\n",
    "physics.producers.generator.FileName:\"/grand/ALCF_for_DUNE/far_detector_data/H4_v34b_1GeV_-27.7_10M_1.root\"\n",
    "EOF\n",
    "\n",
    "#make sure tmpgen.fcl has the contents\n",
    "cat tmpgen_hd.fcl\n",
    "\n",
    "lar -c tmpgen.fcl -o hd_gen.root\n",
    "lar -c standard_g4_protodunehd_stage1.fcl hd_gen.root -o hd_g4_stage1.root\n",
    "lar -c standard_g4_protodunehd_stage2.fcl hd_g4_stage1.root -o\n",
    "hd_g4_stage2.root\n",
    "lar -c standard_detsim_protodunehd.fcl hd_g4_stage2.root -o\n",
    "hd_detsim_stage1.root\n",
    "lar -c standard_reco_protodunehd.fcl hd_detsim_stage1.root -o\n",
    "hd_reco_stage1.root\n",
    "lar -c eventdump.fcl hd_reco_stage1.root >& hd_eventdump_output.txt\n",
    "config_dumper -P hd_reco_stage1.root >& hd_config_output.txt\n",
    "product_sizes_dumper -f 0 hd_reco_stage1.root >& hd_productsizes.txt\n",
    "\n"
   ]
  }
 ],
 "metadata": {
  "kernelspec": {
   "display_name": "Python 3 (ipykernel)",
   "language": "python",
   "name": "python3"
  },
  "language_info": {
   "codemirror_mode": {
    "name": "ipython",
    "version": 3
   },
   "file_extension": ".py",
   "mimetype": "text/x-python",
   "name": "python",
   "nbconvert_exporter": "python",
   "pygments_lexer": "ipython3",
   "version": "3.9.19"
  }
 },
 "nbformat": 4,
 "nbformat_minor": 5
}
